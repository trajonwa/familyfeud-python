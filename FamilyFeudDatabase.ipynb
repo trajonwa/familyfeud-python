{
 "cells": [
  {
   "cell_type": "code",
   "execution_count": 1,
   "id": "89fbd86f-e6a3-47d3-9f51-33dee5e71451",
   "metadata": {},
   "outputs": [
    {
     "data": {
      "text/plain": [
       "'1.2.4'"
      ]
     },
     "execution_count": 1,
     "metadata": {},
     "output_type": "execute_result"
    }
   ],
   "source": [
    "import pandas\n",
    "pandas.__version__"
   ]
  },
  {
   "cell_type": "code",
   "execution_count": 2,
   "id": "e43b5f71-6454-4f63-9cb4-45c34dadaf3e",
   "metadata": {},
   "outputs": [],
   "source": [
    "import mysql.connector\n",
    "from mysql.connector import Error\n",
    "import pandas as pd"
   ]
  },
  {
   "cell_type": "code",
   "execution_count": 3,
   "id": "3fed4e7e-e3d4-4bcd-956a-e3b728b1f461",
   "metadata": {},
   "outputs": [],
   "source": [
    "def create_server_connection(host_name, user_name, user_password):\n",
    "    connection = None\n",
    "    try:\n",
    "        connection = mysql.connector.connect(\n",
    "            host=host_name,\n",
    "            user=user_name,\n",
    "            passwd=user_password\n",
    "        )\n",
    "        print(\"MySQL Database connection successful\")\n",
    "    except Error as err:\n",
    "        print(f\"Error: '{err}'\")\n",
    "\n",
    "    return connection"
   ]
  },
  {
   "cell_type": "code",
   "execution_count": 6,
   "id": "8467d60b-b907-4299-91ce-14a96e8e12d5",
   "metadata": {},
   "outputs": [
    {
     "name": "stdout",
     "output_type": "stream",
     "text": [
      "MySQL Database connection successful\n"
     ]
    }
   ],
   "source": [
    "connection = create_server_connection(\"127.0.0.1\", \"root\", \"HOST1234\")"
   ]
  },
  {
   "cell_type": "code",
   "execution_count": 7,
   "id": "794869a1-729c-4589-8f2f-e5003e79036d",
   "metadata": {},
   "outputs": [],
   "source": [
    "def create_database(connection, query):\n",
    "    cursor = connection.cursor()\n",
    "    try:\n",
    "        cursor.execute(query)\n",
    "        print(\"Database created successfully\")\n",
    "    except Error as err:\n",
    "        print(f\"Error: '{err}'\")"
   ]
  },
  {
   "cell_type": "code",
   "execution_count": 20,
   "id": "59d60724-244a-4d47-b729-9fab1944fcb6",
   "metadata": {},
   "outputs": [
    {
     "name": "stdout",
     "output_type": "stream",
     "text": [
      "Error: '1007 (HY000): Can't create database 'questionare'; database exists'\n"
     ]
    }
   ],
   "source": [
    "create_database_query=\"CREATE DATABASE questionare\"\n",
    "create_database(connection, create_database_query)"
   ]
  },
  {
   "cell_type": "code",
   "execution_count": 10,
   "id": "715b3008-4ed2-4f79-b45f-1fab2fb9a44d",
   "metadata": {},
   "outputs": [],
   "source": [
    "def create_db_connection(host_name, user_name, user_password, db_name):\n",
    "    connection = None\n",
    "    try:\n",
    "        connection = mysql.connector.connect(\n",
    "            host=host_name,\n",
    "            user=user_name,\n",
    "            passwd=user_password,\n",
    "            database=db_name\n",
    "        )\n",
    "        print(\"MySQL Database connection successful\")\n",
    "    except Error as err:\n",
    "        print(f\"Error: '{err}'\")\n",
    "\n",
    "    return connection"
   ]
  },
  {
   "cell_type": "code",
   "execution_count": 11,
   "id": "51d16543-67fa-4e78-b353-bd06425990ec",
   "metadata": {},
   "outputs": [],
   "source": [
    "def execute_query(connection, query):\n",
    "    cursor = connection.cursor()\n",
    "    try:\n",
    "        cursor.execute(query)\n",
    "        connection.commit()\n",
    "        print(\"Query successful\")\n",
    "    except Error as err:\n",
    "        print(f\"Error: '{err}'\")"
   ]
  },
  {
   "cell_type": "code",
   "execution_count": 13,
   "id": "7cff61dd-14f9-4530-b9a4-e6ea190a5271",
   "metadata": {
    "jupyter": {
     "source_hidden": true
    },
    "tags": []
   },
   "outputs": [
    {
     "name": "stdout",
     "output_type": "stream",
     "text": [
      "MySQL Database connection successful\n",
      "Query successful\n"
     ]
    }
   ],
   "source": [
    "create_questionare = \"\"\"\n",
    "CREATE TABLE questionare (\n",
    "  question_id INT PRIMARY KEY, \n",
    "  Question VARCHAR(255) NOT NULL, \n",
    "  answer_1 VARCHAR(40) NOT NULL, \n",
    "  answer_2 VARCHAR(40) NOT NULL, \n",
    "  answer_3 VARCHAR(40) NOT NULL,\n",
    "  answer_4 VARCHAR(40) NOT NULL, \n",
    "  answer_5 VARCHAR(40) NOT NULL, \n",
    "  answer_6 VARCHAR(40) NOT NULL,\n",
    "  answer_7 VARCHAR(40) NOT NULL, \n",
    "  answer_8 VARCHAR(40) NOT NULL \n",
    ");\n",
    " \"\"\"\n",
    "connection = create_db_connection(\"localhost\", \"root\", \"HOST1234\", \"questionare\") # Connect to the Database\n",
    "execute_query(connection, create_questionare) # Execute our defined query"
   ]
  },
  {
   "cell_type": "code",
   "execution_count": 19,
   "id": "3b96d9da-e70c-45e0-b324-5d43cc0fd1cd",
   "metadata": {},
   "outputs": [
    {
     "name": "stdout",
     "output_type": "stream",
     "text": [
      "MySQL Database connection successful\n",
      "Error: '1050 (42S01): Table 'answers' already exists'\n"
     ]
    }
   ],
   "source": [
    "create_answers = \"\"\"\n",
    "CREATE TABLE answers (\n",
    "  answer INT PRIMARY KEY, \n",
    "  similar_answer_1 VARCHAR(40) NOT NULL, \n",
    "  similar_answer_2 VARCHAR(40) NOT NULL, \n",
    "  similar_answer_3 VARCHAR(40) NOT NULL\n",
    ");\n",
    " \"\"\"\n",
    "connection = create_db_connection(\"localhost\", \"root\", \"HOST1234\", \"questionare\") # Connect to the Database\n",
    "execute_query(connection, create_answers) # Execute our defined query"
   ]
  },
  {
   "cell_type": "code",
   "execution_count": 1,
   "id": "483fa797-2eb2-44ee-afa5-5649c5015dda",
   "metadata": {},
   "outputs": [
    {
     "ename": "NameError",
     "evalue": "name 'create_db_connection' is not defined",
     "output_type": "error",
     "traceback": [
      "\u001b[1;31m---------------------------------------------------------------------------\u001b[0m",
      "\u001b[1;31mNameError\u001b[0m                                 Traceback (most recent call last)",
      "\u001b[1;32m<ipython-input-1-0b7b34761384>\u001b[0m in \u001b[0;36m<module>\u001b[1;34m\u001b[0m\n\u001b[0;32m      5\u001b[0m \u001b[0mON\u001b[0m \u001b[0mDELETE\u001b[0m \u001b[0mSET\u001b[0m \u001b[0mNULL\u001b[0m\u001b[1;33m;\u001b[0m\u001b[1;33m\u001b[0m\u001b[1;33m\u001b[0m\u001b[0m\n\u001b[0;32m      6\u001b[0m \"\"\"\n\u001b[1;32m----> 7\u001b[1;33m \u001b[0mconnection\u001b[0m \u001b[1;33m=\u001b[0m \u001b[0mcreate_db_connection\u001b[0m\u001b[1;33m(\u001b[0m\u001b[1;34m\"localhost\"\u001b[0m\u001b[1;33m,\u001b[0m \u001b[1;34m\"root\"\u001b[0m\u001b[1;33m,\u001b[0m \u001b[1;34m\"HOST1234\"\u001b[0m\u001b[1;33m,\u001b[0m \u001b[1;34m\"questionare\"\u001b[0m\u001b[1;33m)\u001b[0m \u001b[1;31m# Connect to the Database\u001b[0m\u001b[1;33m\u001b[0m\u001b[1;33m\u001b[0m\u001b[0m\n\u001b[0m\u001b[0;32m      8\u001b[0m \u001b[0mexecute_query\u001b[0m\u001b[1;33m(\u001b[0m\u001b[0mconnection\u001b[0m\u001b[1;33m,\u001b[0m \u001b[0malter_answers\u001b[0m\u001b[1;33m)\u001b[0m \u001b[1;31m# Execute our defined query\u001b[0m\u001b[1;33m\u001b[0m\u001b[1;33m\u001b[0m\u001b[0m\n",
      "\u001b[1;31mNameError\u001b[0m: name 'create_db_connection' is not defined"
     ]
    }
   ],
   "source": [
    "alter_answers = \"\"\"\n",
    "ALTER TABLE answers\n",
    "ADD FOREIGN KEY(questionare)\n",
    "REFERNCES questionare(question_id)\n",
    "ON DELETE SET NULL;\n",
    "\"\"\"\n",
    "connection = create_db_connection(\"localhost\", \"root\", \"HOST1234\", \"questionare\") # Connect to the Database\n",
    "execute_query(connection, alter_answers) # Execute our defined query"
   ]
  },
  {
   "cell_type": "code",
   "execution_count": 3,
   "id": "fb342a70-e7c5-45b9-96c1-3b225c1119d9",
   "metadata": {},
   "outputs": [],
   "source": [
    "pop_questionare = \"\"\"\n",
    "INSERT INTO questionare VALUES\n",
    "(01, 'In Horror Movies, Name a Place Teenagers Go Where There’s Always a Killer On the Loose'),\n",
    "(02, 'Name Marvel’s Avengers'),\n",
    "(03, 'Name a Common Candy Bar Component');\n",
    "\"\"\"\n",
    "\n",
    "pop_answers = \"\"\"\n",
    "INSERT INTO answers VALUES\n",
    "('CABIN', 20, 'CAMP', 'WOODS', 01),\n",
    "('GRAVEYARD', 20, 01),\n",
    "('MOVIE THEATRE', 20, 'DRIVE-IN', 01),\n",
    "('BASEMENT', 6, 'CELLAR', 01),\n",
    "('CAPTAIN AMERICA', 20, 02),\n",
    "('IRON MAN', 20, 02),\n",
    "('BLACK PANTHER', 20, 02),\n",
    "('CHOCOLATE', 20, 03),\n",
    "('PEANUTES', 20, 03),\n",
    "('CARAMEL', 20, 03);\n",
    "\"\"\"\n",
    "\n",
    "connection = create_db_connection(\"localhost\", \"root\", \"HOST1234\", \"questionare\") # Connect to the Database\n",
    "execute_query(connection, pop_questionare)\n",
    "execute_query(connection, pop_answers) # Execute our defined query"
   ]
  },
  {
   "cell_type": "code",
   "execution_count": 6,
   "id": "d2f86b2f-94a3-4aaf-9232-5f555b86537e",
   "metadata": {},
   "outputs": [],
   "source": [
    "def execute_list_query(connection, sql, val):\n",
    "    cursor = connection.cursor() \n",
    "    try: \n",
    "        cursor.executemany(sql, val) \n",
    "        connection.commit() \n",
    "        print(\"Query successful\") \n",
    "    except Error as err: \n",
    "        print(f\"Error: '{err}'\")"
   ]
  },
  {
   "cell_type": "code",
   "execution_count": null,
   "id": "6efb81bc-b4a1-4f95-9268-24281f190c0b",
   "metadata": {},
   "outputs": [],
   "source": [
    "sql = '''\n",
    "    INSERT INTO answers (answer, point_value, synonym1, synonym2, questionID) \n",
    "    VALUES (%s, %s, %s, %s, %s)\n",
    "    '''\n",
    "    \n",
    "val = [\n",
    "    ('BATHROOM', 4, 'SHOWER'), \n",
    "]"
   ]
  },
  {
   "cell_type": "code",
   "execution_count": null,
   "id": "84117924-fee2-4727-98a6-4276cafe2c99",
   "metadata": {},
   "outputs": [],
   "source": []
  }
 ],
 "metadata": {
  "kernelspec": {
   "display_name": "Python 3",
   "language": "python",
   "name": "python3"
  },
  "language_info": {
   "codemirror_mode": {
    "name": "ipython",
    "version": 3
   },
   "file_extension": ".py",
   "mimetype": "text/x-python",
   "name": "python",
   "nbconvert_exporter": "python",
   "pygments_lexer": "ipython3",
   "version": "3.8.8"
  }
 },
 "nbformat": 4,
 "nbformat_minor": 5
}
